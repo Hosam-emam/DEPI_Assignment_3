{
 "cells": [
  {
   "cell_type": "markdown",
   "metadata": {},
   "source": [
    "# Excersise Level 2"
   ]
  },
  {
   "cell_type": "code",
   "execution_count": 7,
   "metadata": {},
   "outputs": [
    {
     "name": "stdout",
     "output_type": "stream",
     "text": [
      "The old List: ['hosam', 'item', 'emam', 'words', 3]\n",
      "The new List: ['Hosam', 'Item', 'Emam', 'Words', 3]\n"
     ]
    }
   ],
   "source": [
    "################### (1) ###################\n",
    "\n",
    "def capitalize_list_items(ls = []):\n",
    "    new_list = []\n",
    "    \n",
    "    for i in ls:\n",
    "        if(type(i) == str):\n",
    "            new_list.append(i.capitalize())\n",
    "        else:\n",
    "            new_list.append(i)\n",
    "    return new_list\n",
    "\n",
    "lst = ['hosam','item','emam','words',3]\n",
    "new_lst = capitalize_list_items(lst)\n",
    "\n",
    "print(f'The old List: {lst}')\n",
    "print(f'The new List: {new_lst}')"
   ]
  },
  {
   "cell_type": "code",
   "execution_count": null,
   "metadata": {},
   "outputs": [
    {
     "name": "stdout",
     "output_type": "stream",
     "text": [
      "The new List: [10, 20, 30, 40, 50, 'hosam']\n"
     ]
    }
   ],
   "source": [
    "################### (2) ###################\n",
    "\n",
    "def add_item(lst=[],*items):\n",
    "    for item in items:\n",
    "        lst.append(item)\n",
    "    return lst\n",
    "\n",
    "lst = [10,20,30,40,50]\n",
    "user_input = input('Please, enter an item: ')\n",
    "lst = add_item(lst,user_input)\n",
    "\n",
    "\n",
    "print(f'The new List: {lst}')   "
   ]
  },
  {
   "cell_type": "code",
   "execution_count": 10,
   "metadata": {},
   "outputs": [
    {
     "name": "stdout",
     "output_type": "stream",
     "text": [
      "The reversed List: [50, 40, 30, 20, 10]\n"
     ]
    }
   ],
   "source": [
    "################### (3) ###################\n",
    "\n",
    "def reverse_lst(lst):\n",
    "    rev_list =[]\n",
    "    for i in lst:\n",
    "        rev_list.insert(0,i)\n",
    "    return rev_list\n",
    "user_input = input('Please, enter a sequence of numbers separated by spaces: ')\n",
    "lst = list(map(int,user_input.split()))\n",
    "new_list = reverse_lst(lst)\n",
    "print(f'The reversed List: {new_list}')"
   ]
  },
  {
   "cell_type": "code",
   "execution_count": 12,
   "metadata": {},
   "outputs": [
    {
     "name": "stdout",
     "output_type": "stream",
     "text": [
      "The number of odds: 50\n",
      "The number of evens 51\n"
     ]
    }
   ],
   "source": [
    "################### (4) ###################\n",
    "\n",
    "\n",
    "def evens_and_odds(number): # This function returns two outputs evens -> odds\n",
    "    evens=0\n",
    "    odds=0\n",
    "    for i in range(0,number+1):\n",
    "        if(i % 2 == 0):\n",
    "            evens+=1\n",
    "        else:\n",
    "            odds+=1\n",
    "    return evens, odds\n",
    "\n",
    "num = int(input('Please, enter a positive digit: '))\n",
    "\n",
    "evens, odds = evens_and_odds(num)\n",
    "print(f'The number of odds: {odds}')\n",
    "print(f'The number of evens {evens}')"
   ]
  },
  {
   "cell_type": "code",
   "execution_count": 40,
   "metadata": {},
   "outputs": [
    {
     "name": "stdout",
     "output_type": "stream",
     "text": [
      "The mean of 25.0\n",
      "The median of 25.0\n",
      "The mode of 20\n"
     ]
    }
   ],
   "source": [
    "################### (5) ###################\n",
    "\n",
    "def calculate_mean(lst=[]):\n",
    "    if(len(lst) == 0):\n",
    "        return 0\n",
    "    sum=0\n",
    "    for i in lst:\n",
    "        sum+=i\n",
    "    return sum/len(lst)\n",
    "\n",
    "def calculate_median(lst=[]):\n",
    "    length = len(lst)\n",
    "    if(length == 0):\n",
    "        return 0\n",
    "\n",
    "    new_lst = sorted(lst)\n",
    "    if(length % 2 == 0):\n",
    "        median = float((new_lst[length // 2] + new_lst[length//2 + 1]) / 2)\n",
    "        return median\n",
    "    else:\n",
    "        return new_lst[length//2]\n",
    "\n",
    "def calculate_mode(lst=[]):\n",
    "    if(len(lst) == 0):\n",
    "        return 0\n",
    "    values_set = set(lst)\n",
    "    max = 0\n",
    "    object = 0\n",
    "    for item in values_set:\n",
    "        if (max < lst.count(item)):\n",
    "            max = lst.count(item)\n",
    "            object = item\n",
    "    return object\n",
    "\n",
    "lst = [10,20,30,40,50,20,20,10]\n",
    "\n",
    "print(f'The mean of {calculate_mean(lst)}')\n",
    "print(f'The median of {calculate_median(lst)}')\n",
    "print(f'The mode of {calculate_mode(lst)}')\n",
    "\n"
   ]
  },
  {
   "cell_type": "code",
   "execution_count": 41,
   "metadata": {},
   "outputs": [
    {
     "name": "stdout",
     "output_type": "stream",
     "text": [
      "Item #1: 1\n",
      "Item #2: 2\n",
      "Item #3: 3\n",
      "Item #4: 4\n",
      "Item #5: 5\n",
      "Item #6: 6\n",
      "Item #7: 7\n",
      "Item #8: 8\n",
      "Item #9: 9\n",
      "Item #10: 100\n"
     ]
    }
   ],
   "source": [
    "################### (6) ###################\n",
    "\n",
    "def print_list(lst = []):\n",
    "    for index, value in enumerate(lst):\n",
    "        print(f'Item #{index+1}: {value}')\n",
    "\n",
    "lst = [1,2,3,4,5,6,7,8,9,100]\n",
    "print_list(lst)"
   ]
  },
  {
   "cell_type": "markdown",
   "metadata": {},
   "source": [
    "## Excersise Level 3"
   ]
  },
  {
   "cell_type": "code",
   "execution_count": null,
   "metadata": {},
   "outputs": [
    {
     "name": "stdout",
     "output_type": "stream",
     "text": [
      "Prime number: False\n"
     ]
    }
   ],
   "source": [
    "################### (1) ###################\n",
    "import math as m\n",
    "\n",
    "def is_prime(number):\n",
    "    for i in range(2,int(m.sqrt(number))+1):\n",
    "        if number%i == 0:\n",
    "            return False\n",
    "    return True\n",
    "\n",
    "num = int(input('Enter a number: '))\n",
    "\n",
    "print('Prime number:',is_prime(num))"
   ]
  },
  {
   "cell_type": "code",
   "execution_count": 53,
   "metadata": {},
   "outputs": [
    {
     "name": "stdout",
     "output_type": "stream",
     "text": [
      "the list has only unique elements: True\n"
     ]
    }
   ],
   "source": [
    "################### (2) ###################\n",
    "\n",
    "def is_unique(lst):\n",
    "    unique_items = set()\n",
    "    for item in lst:\n",
    "        if item in unique_items:\n",
    "            return False\n",
    "        else:\n",
    "            unique_items.add(item)\n",
    "    return True\n",
    "\n",
    "lst = [1,2,3,4,5,10]\n",
    "\n",
    "print('the list has only unique elements:',is_unique(lst))"
   ]
  },
  {
   "cell_type": "code",
   "execution_count": null,
   "metadata": {},
   "outputs": [
    {
     "data": {
      "text/plain": [
       "True"
      ]
     },
     "execution_count": 59,
     "metadata": {},
     "output_type": "execute_result"
    }
   ],
   "source": [
    "################### (3) ###################\n",
    "\n",
    "def same_datatype(lst):\n",
    "    dt = type(lst[0])\n",
    "    for item in lst:\n",
    "        if type(item)  != dt:\n",
    "            return False\n",
    "    return True\n",
    "\n",
    "lst = ['hosam',' ']\n",
    "same_datatype(lst)"
   ]
  },
  {
   "cell_type": "code",
   "execution_count": 65,
   "metadata": {},
   "outputs": [
    {
     "name": "stdout",
     "output_type": "stream",
     "text": [
      "True\n",
      "False\n",
      "False\n",
      "True\n"
     ]
    }
   ],
   "source": [
    "################### (4) ###################\n",
    "\n",
    "def is_valid_variable(obj): \n",
    "    if(obj.isidentifier()):\n",
    "        return True\n",
    "    return False\n",
    "print(is_valid_variable('hosam'))\n",
    "print(is_valid_variable('1 hosam'))\n",
    "print(is_valid_variable('$$&'))\n",
    "print(is_valid_variable('__hosam'))\n",
    "\n",
    "\n"
   ]
  },
  {
   "cell_type": "code",
   "execution_count": null,
   "metadata": {},
   "outputs": [],
   "source": []
  }
 ],
 "metadata": {
  "kernelspec": {
   "display_name": "base",
   "language": "python",
   "name": "python3"
  },
  "language_info": {
   "codemirror_mode": {
    "name": "ipython",
    "version": 3
   },
   "file_extension": ".py",
   "mimetype": "text/x-python",
   "name": "python",
   "nbconvert_exporter": "python",
   "pygments_lexer": "ipython3",
   "version": "3.11.5"
  }
 },
 "nbformat": 4,
 "nbformat_minor": 2
}
